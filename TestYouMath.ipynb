{
 "cells": [
  {
   "cell_type": "code",
   "execution_count": 1,
   "metadata": {},
   "outputs": [],
   "source": [
    "import random"
   ]
  },
  {
   "cell_type": "code",
   "execution_count": 2,
   "metadata": {},
   "outputs": [],
   "source": [
    "def Test(length=4):\n",
    "    AllSymbols=['+','-','*']\n",
    "    Number=list(range(1,10))\n",
    "    Num1=random.sample(Number,length)\n",
    "    Op=[]\n",
    "    N=Num1[0]\n",
    "    String='_ '\n",
    "    for i in range(length-1):\n",
    "        a=random.choice(AllSymbols)\n",
    "        N=str(N) + a + str(Num1[i+1])\n",
    "        Op.append(a)\n",
    "        String+=a+' _ '\n",
    "    N1=eval(N)\n",
    "    String1=String+' = '+str(N1)\n",
    "    String2='Please fill up the space: '+String1+' :'\n",
    "    Input=int(eval(input(String2)))\n",
    "    if Input==N1:\n",
    "        print('Correct!!Your answer was',Input)\n",
    "        print(N,'=',str(N1))\n",
    "    else:\n",
    "        print('Wrong. The correct answer is: ',String1,' You entered ',Input)"
   ]
  },
  {
   "cell_type": "code",
   "execution_count": 5,
   "metadata": {},
   "outputs": [
    {
     "name": "stdout",
     "output_type": "stream",
     "text": [
      "Please fill up the space: _ - _ * _ + _  = -33 :5-6*7+4\n",
      "Correct!!Your answer was -33\n",
      "4-9*5+8 = -33\n",
      "Please fill up the space: _ - _ + _ * _  = 22 :9-3+2*8\n",
      "Correct!!Your answer was 22\n",
      "9-5+3*6 = 22\n",
      "Please fill up the space: _ * _ + _ * _  = 69 :3*8+9*5\n",
      "Correct!!Your answer was 69\n",
      "8*6+7*3 = 69\n",
      "Please fill up the space: _ + _ * _ + _  = 42 :1+7*5+6\n",
      "Correct!!Your answer was 42\n",
      "6+7*5+1 = 42\n",
      "Please fill up the space: _ * _ - _ * _  = -38 :1*2-5*8\n",
      "Correct!!Your answer was -38\n",
      "1*2-5*8 = -38\n",
      "Please fill up the space: _ * _ - _ + _  = 3 :1*2-3+4\n",
      "Correct!!Your answer was 3\n",
      "1*2-6+7 = 3\n",
      "Please fill up the space: _ - _ + _ - _  = -5 :1-9+5-2\n",
      "Correct!!Your answer was -5\n",
      "5-6+3-7 = -5\n",
      "Please fill up the space: _ - _ * _ * _  = -13 :3-1*2*8\n",
      "Correct!!Your answer was -13\n",
      "7-5*4*1 = -13\n",
      "Please fill up the space: _ + _ * _ + _  = 27 :1+3*8+2\n",
      "Correct!!Your answer was 27\n",
      "6+8*2+5 = 27\n",
      "Please fill up the space: _ + _ + _ + _  = 25 :8+7+6+4\n",
      "Correct!!Your answer was 25\n",
      "9+7+8+1 = 25\n",
      "Please fill up the space: _ - _ * _ * _  = -15 :3-1*2*9\n",
      "Correct!!Your answer was -15\n",
      "9-3*4*2 = -15\n",
      "Please fill up the space: _ + _ - _ - _  = 9 :9+5-3-2\n",
      "Correct!!Your answer was 9\n",
      "6+9-4-2 = 9\n",
      "Please fill up the space: _ * _ - _ - _  = -10 :1*2-4-8\n",
      "Correct!!Your answer was -10\n",
      "3*1-9-4 = -10\n",
      "Please fill up the space: _ - _ * _ * _  = -287 :1-9*8*4\n",
      "Correct!!Your answer was -287\n",
      "1-8*4*9 = -287\n",
      "Please fill up the space: _ + _ * _ + _  = 16 :3+2*6+1\n",
      "Correct!!Your answer was 16\n",
      "4+1*3+9 = 16\n"
     ]
    }
   ],
   "source": [
    "for i in range(15):\n",
    " Test()"
   ]
  }
 ],
 "metadata": {
  "kernelspec": {
   "display_name": "Python 3",
   "language": "python",
   "name": "python3"
  },
  "language_info": {
   "codemirror_mode": {
    "name": "ipython",
    "version": 3
   },
   "file_extension": ".py",
   "mimetype": "text/x-python",
   "name": "python",
   "nbconvert_exporter": "python",
   "pygments_lexer": "ipython3",
   "version": "3.8.5"
  }
 },
 "nbformat": 4,
 "nbformat_minor": 4
}
