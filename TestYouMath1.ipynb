{
 "cells": [
  {
   "cell_type": "code",
   "execution_count": 1,
   "metadata": {},
   "outputs": [],
   "source": [
    "import random"
   ]
  },
  {
   "cell_type": "code",
   "execution_count": 2,
   "metadata": {},
   "outputs": [],
   "source": [
    "def Test1(length=4):\n",
    "    AllSymbols=['+','-','*']\n",
    "    Number=list(range(1,10))\n",
    "    Num1=random.sample(Number,length)\n",
    "    N=Num1[0]\n",
    "    String='_ '\n",
    "    for i in range(length-1):\n",
    "        a=random.choice(AllSymbols)\n",
    "        N=str(N) + a + str(Num1[i+1])\n",
    "        String+=a+' _ '\n",
    "    N1=eval(N)\n",
    "    String1=String+' = '+str(N1)\n",
    "    String2='Please fill up the space: '+String1+' :'\n",
    "    Input1=input(String2)\n",
    "    Input=int(eval(Input1))\n",
    "    if Input==N1:\n",
    "        print('Correct!!Your answer was',Input)\n",
    "        print(N,'=',str(N1))\n",
    "    else:\n",
    "        print('Wrong. The correct answer is: ',N,'=',str(N1),' You entered ',Input1,'=',Input)"
   ]
  },
  {
   "cell_type": "code",
   "execution_count": 3,
   "metadata": {},
   "outputs": [],
   "source": [
    "def Test2(length=4):\n",
    "    AllSymbols=['+','*']\n",
    "    Number=list(range(1,10))\n",
    "    Num1=random.sample(Number,length)\n",
    "    N=Num1[0]\n",
    "    String='_ '\n",
    "    for i in range(length-1):\n",
    "        a=random.choice(AllSymbols)\n",
    "        N=str(N) + a + str(Num1[i+1])\n",
    "        String+=a+' _ '\n",
    "    N1=eval(N)\n",
    "    String1=String+' = '+str(N1)\n",
    "    String2='Please fill up the space: '+String1+' :'\n",
    "    Input1=input(String2)\n",
    "    Input=int(eval(Input1))\n",
    "    if Input==N1:\n",
    "        print('Correct!!Your answer was',Input)\n",
    "        print(N,'=',str(N1))\n",
    "    else:\n",
    "        print('Wrong. The correct answer is: ',N,'=',str(N1),' You entered ',Input1,'=',Input)"
   ]
  },
  {
   "cell_type": "code",
   "execution_count": 4,
   "metadata": {},
   "outputs": [],
   "source": [
    "def Test3(length=4):\n",
    "    AllSymbols=['+','*']\n",
    "    Number=list(range(1,10))\n",
    "    Num1=random.sample(Number,length)\n",
    "    N=Num1[0]\n",
    "    String='_ '\n",
    "    for i in range(length-1):\n",
    "        a=random.choice(AllSymbols)\n",
    "        N=str(N) + a + str(Num1[i+1])\n",
    "        if i==0:\n",
    "            N='('+N+')'\n",
    "            String='( _ '+a+' _ )'\n",
    "        else:\n",
    "            String+=a+' _ '\n",
    "    N1=eval(N)\n",
    "    String1=String+' = '+str(N1)\n",
    "    String2='Please fill up the space: '+String1+' :'\n",
    "    Input1=input(String2)\n",
    "    Input=int(eval(Input1))\n",
    "    if Input==N1:\n",
    "        print('Correct!!Your answer was',Input)\n",
    "        print(N,'=',str(N1))\n",
    "    else:\n",
    "        print('Wrong. The correct answer is: ',N,'=',str(N1),' You entered ',Input1,'=',Input)"
   ]
  },
  {
   "cell_type": "code",
   "execution_count": 5,
   "metadata": {},
   "outputs": [],
   "source": [
    "def Test4(length=4):\n",
    "    AllSymbols=['+','*']\n",
    "    Number=list(range(1,10))\n",
    "    Num1=random.sample(Number,length)\n",
    "    N=Num1[0]\n",
    "    String='_ '\n",
    "    for i in range(length-1):\n",
    "        a=random.choice(AllSymbols)\n",
    "        N=str(N) + a + str(Num1[i+1])\n",
    "        if i==0:\n",
    "            N='('+N\n",
    "            String='( _'+a+' _ '\n",
    "        elif i==1:\n",
    "            N=N+')'\n",
    "            String+=a+' _ )'\n",
    "        else:\n",
    "            String+=a+' _ '\n",
    "    N1=eval(N)\n",
    "    String1=String+' = '+str(N1)\n",
    "    String2='Please fill up the space: '+String1+' :'\n",
    "    Input1=input(String2)\n",
    "    Input=int(eval(Input1))\n",
    "    if Input==N1:\n",
    "        print('Correct!!Your answer was',Input)\n",
    "        print(N,'=',str(N1))\n",
    "    else:\n",
    "        print('Wrong. The correct answer is: ',N,'=',str(N1),' You entered ',Input1,'=',Input)"
   ]
  },
  {
   "cell_type": "code",
   "execution_count": null,
   "metadata": {},
   "outputs": [],
   "source": [
    "for i in range(5):\n",
    " Test1()\n",
    "for i in range(5):\n",
    " Test2()\n",
    "for i in range(5):\n",
    " Test3()\n",
    "for i in range(5):\n",
    " Test4()"
   ]
  }
 ],
 "metadata": {
  "kernelspec": {
   "display_name": "Python 3",
   "language": "python",
   "name": "python3"
  },
  "language_info": {
   "codemirror_mode": {
    "name": "ipython",
    "version": 3
   },
   "file_extension": ".py",
   "mimetype": "text/x-python",
   "name": "python",
   "nbconvert_exporter": "python",
   "pygments_lexer": "ipython3",
   "version": "3.8.5"
  }
 },
 "nbformat": 4,
 "nbformat_minor": 4
}
